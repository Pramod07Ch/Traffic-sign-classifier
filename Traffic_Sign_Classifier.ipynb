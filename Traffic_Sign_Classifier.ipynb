{
 "cells": [
  {
   "cell_type": "markdown",
   "metadata": {},
   "source": [
    "# Self-Driving Car Engineer Nanodegree\n",
    "\n",
    "## Deep Learning\n",
    "\n",
    "## Project: Build a Traffic Sign Recognition Classifier\n",
    "\n",
    "In this notebook, a template is provided for you to implement your functionality in stages, which is required to successfully complete this project. If additional code is required that cannot be included in the notebook, be sure that the Python code is successfully imported and included in your submission if necessary. \n",
    "\n",
    "> **Note**: Once you have completed all of the code implementations, you need to finalize your work by exporting the iPython Notebook as an HTML document. Before exporting the notebook to html, all of the code cells need to have been run so that reviewers can see the final implementation and output. You can then export the notebook by using the menu above and navigating to  \\n\",\n",
    "    \"**File -> Download as -> HTML (.html)**. Include the finished document along with this notebook as your submission. \n",
    "\n",
    "In addition to implementing code, there is a writeup to complete. The writeup should be completed in a separate file, which can be either a markdown file or a pdf document. There is a [write up template](https://github.com/udacity/CarND-Traffic-Sign-Classifier-Project/blob/master/writeup_template.md) that can be used to guide the writing process. Completing the code template and writeup template will cover all of the [rubric points](https://review.udacity.com/#!/rubrics/481/view) for this project.\n",
    "\n",
    "The [rubric](https://review.udacity.com/#!/rubrics/481/view) contains \"Stand Out Suggestions\" for enhancing the project beyond the minimum requirements. The stand out suggestions are optional. If you decide to pursue the \"stand out suggestions\", you can include the code in this Ipython notebook and also discuss the results in the writeup file.\n",
    "\n",
    "\n",
    ">**Note:** Code and Markdown cells can be executed using the **Shift + Enter** keyboard shortcut. In addition, Markdown cells can be edited by typically double-clicking the cell to enter edit mode."
   ]
  },
  {
   "cell_type": "markdown",
   "metadata": {},
   "source": [
    "---\n",
    "## Step 0: Load The Data"
   ]
  },
  {
   "cell_type": "code",
   "execution_count": 1,
   "metadata": {},
   "outputs": [],
   "source": [
    "# Load pickled data\n",
    "import pickle\n",
    "\n",
    "# TODO: Fill this in based on where you saved the training and testing data\n",
    "\n",
    "training_file = 'train.p'\n",
    "validation_file='valid.p'\n",
    "testing_file = 'test.p'\n",
    "\n",
    "with open(training_file, mode='rb') as f:\n",
    "    train = pickle.load(f)\n",
    "with open(validation_file, mode='rb') as f:\n",
    "    valid = pickle.load(f)\n",
    "with open(testing_file, mode='rb') as f:\n",
    "    test = pickle.load(f)\n",
    "    \n",
    "X_train, y_train = train['features'], train['labels']\n",
    "X_valid, y_valid = valid['features'], valid['labels']\n",
    "X_test, y_test = test['features'], test['labels']"
   ]
  },
  {
   "cell_type": "markdown",
   "metadata": {},
   "source": [
    "---\n",
    "\n",
    "## Step 1: Dataset Summary & Exploration\n",
    "\n",
    "The pickled data is a dictionary with 4 key/value pairs:\n",
    "\n",
    "- `'features'` is a 4D array containing raw pixel data of the traffic sign images, (num examples, width, height, channels).\n",
    "- `'labels'` is a 1D array containing the label/class id of the traffic sign. The file `signnames.csv` contains id -> name mappings for each id.\n",
    "- `'sizes'` is a list containing tuples, (width, height) representing the original width and height the image.\n",
    "- `'coords'` is a list containing tuples, (x1, y1, x2, y2) representing coordinates of a bounding box around the sign in the image. **THESE COORDINATES ASSUME THE ORIGINAL IMAGE. THE PICKLED DATA CONTAINS RESIZED VERSIONS (32 by 32) OF THESE IMAGES**\n",
    "\n",
    "Complete the basic data summary below. Use python, numpy and/or pandas methods to calculate the data summary rather than hard coding the results. For example, the [pandas shape method](http://pandas.pydata.org/pandas-docs/stable/generated/pandas.DataFrame.shape.html) might be useful for calculating some of the summary results. "
   ]
  },
  {
   "cell_type": "markdown",
   "metadata": {},
   "source": [
    "### Provide a Basic Summary of the Data Set Using Python, Numpy and/or Pandas"
   ]
  },
  {
   "cell_type": "code",
   "execution_count": 2,
   "metadata": {},
   "outputs": [
    {
     "name": "stdout",
     "output_type": "stream",
     "text": [
      "Number of training examples = 34799\n",
      "Number of testing examples = 12630\n",
      "Image data shape = (32, 32, 3)\n",
      "Number of classes = 43\n"
     ]
    }
   ],
   "source": [
    "### Replace each question mark with the appropriate value. \n",
    "### Use python, pandas or numpy methods rather than hard coding the results\n",
    "\n",
    "# TODO: Number of training examples\n",
    "n_train = X_train.shape[0]\n",
    "\n",
    "# TODO: Number of validation examples\n",
    "n_validation = X_valid.shape[0]\n",
    "\n",
    "# TODO: Number of testing examples.\n",
    "n_test = X_test.shape[0]\n",
    "\n",
    "# TODO: What's the shape of an traffic sign image?\n",
    "image_shape = X_train[0].shape\n",
    "\n",
    "# TODO: How many unique classes/labels there are in the dataset.\n",
    "n_classes = len(set(y_train))\n",
    "\n",
    "print(\"Number of training examples =\", n_train)\n",
    "print(\"Number of testing examples =\", n_test)\n",
    "print(\"Image data shape =\", image_shape)\n",
    "print(\"Number of classes =\", n_classes)"
   ]
  },
  {
   "cell_type": "markdown",
   "metadata": {},
   "source": [
    "### Include an exploratory visualization of the dataset"
   ]
  },
  {
   "cell_type": "markdown",
   "metadata": {},
   "source": [
    "Visualize the German Traffic Signs Dataset using the pickled file(s). This is open ended, suggestions include: plotting traffic sign images, plotting the count of each sign, etc. \n",
    "\n",
    "The [Matplotlib](http://matplotlib.org/) [examples](http://matplotlib.org/examples/index.html) and [gallery](http://matplotlib.org/gallery.html) pages are a great resource for doing visualizations in Python.\n",
    "\n",
    "**NOTE:** It's recommended you start with something simple first. If you wish to do more, come back to it after you've completed the rest of the sections. It can be interesting to look at the distribution of classes in the training, validation and test set. Is the distribution the same? Are there more examples of some classes than others?"
   ]
  },
  {
   "cell_type": "code",
   "execution_count": 3,
   "metadata": {},
   "outputs": [
    {
     "data": {
      "text/plain": [
       "<matplotlib.image.AxesImage at 0x7f65c15688d0>"
      ]
     },
     "execution_count": 3,
     "metadata": {},
     "output_type": "execute_result"
    },
    {
     "data": {
      "image/png": "[encoded data removed]",
      "text/plain": [
       "<matplotlib.figure.Figure at 0x7f65f822a0f0>"
      ]
     },
     "metadata": {
      "needs_background": "light"
     },
     "output_type": "display_data"
    }
   ],
   "source": [
    "### Data exploration visualization code goes here.\n",
    "### Feel free to use as many code cells as needed.\n",
    "import random\n",
    "import numpy as np\n",
    "import matplotlib.pyplot as plt\n",
    "import pandas as pd\n",
    "# Visualizations will be shown in the notebook.\n",
    "%matplotlib inline\n",
    "\n",
    "index = random.randint(0, len(X_train))\n",
    "image = X_train[index]\n",
    "plt.figure()\n",
    "plt.imshow(image)\n",
    "# y_train[index]"
   ]
  },
  {
   "cell_type": "code",
   "execution_count": 4,
   "metadata": {},
   "outputs": [
    {
     "data": {
      "text/plain": [
       "array(['Speed limit (20km/h)', 'Speed limit (30km/h)',\n",
       "       'Speed limit (50km/h)', 'Speed limit (60km/h)',\n",
       "       'Speed limit (70km/h)', 'Speed limit (80km/h)',\n",
       "       'End of speed limit (80km/h)', 'Speed limit (100km/h)',\n",
       "       'Speed limit (120km/h)', 'No passing',\n",
       "       'No passing for vehicles over 3.5 metric tons',\n",
       "       'Right-of-way at the next intersection', 'Priority road', 'Yield',\n",
       "       'Stop', 'No vehicles', 'Vehicles over 3.5 metric tons prohibited',\n",
       "       'No entry', 'General caution', 'Dangerous curve to the left',\n",
       "       'Dangerous curve to the right', 'Double curve', 'Bumpy road',\n",
       "       'Slippery road', 'Road narrows on the right', 'Road work',\n",
       "       'Traffic signals', 'Pedestrians', 'Children crossing',\n",
       "       'Bicycles crossing', 'Beware of ice/snow', 'Wild animals crossing',\n",
       "       'End of all speed and passing limits', 'Turn right ahead',\n",
       "       'Turn left ahead', 'Ahead only', 'Go straight or right',\n",
       "       'Go straight or left', 'Keep right', 'Keep left',\n",
       "       'Roundabout mandatory', 'End of no passing',\n",
       "       'End of no passing by vehicles over 3.5 metric tons'], dtype=object)"
      ]
     },
     "execution_count": 4,
     "metadata": {},
     "output_type": "execute_result"
    }
   ],
   "source": [
    "signnames = pd.read_csv(\"signnames.csv\").values[:,1]\n",
    "signnames"
   ]
  },
  {
   "cell_type": "code",
   "execution_count": 5,
   "metadata": {},
   "outputs": [],
   "source": [
    "n_classes = len(set(y_train))\n",
    "sign_classes, class_counts = np.unique(y_train, return_counts = True)"
   ]
  },
  {
   "cell_type": "code",
   "execution_count": 6,
   "metadata": {},
   "outputs": [
    {
     "data": {
      "text/plain": [
       "<Container object of 43 artists>"
      ]
     },
     "execution_count": 6,
     "metadata": {},
     "output_type": "execute_result"
    },
    {
     "data": {
      "image/png": "[encoded data removed]",
      "text/plain": [
       "<matplotlib.figure.Figure at 0x7f65c15a7ac8>"
      ]
     },
     "metadata": {
      "needs_background": "light"
     },
     "output_type": "display_data"
    }
   ],
   "source": [
    "plt.bar(range(n_classes), class_counts)\n",
    "# class_counts.shape[0]"
   ]
  },
  {
   "cell_type": "markdown",
   "metadata": {},
   "source": [
    "----\n",
    "\n",
    "## Step 2: Design and Test a Model Architecture\n",
    "\n",
    "Design and implement a deep learning model that learns to recognize traffic signs. Train and test your model on the [German Traffic Sign Dataset](http://benchmark.ini.rub.de/?section=gtsrb&subsection=dataset).\n",
    "\n",
    "The LeNet-5 implementation shown in the [classroom](https://classroom.udacity.com/nanodegrees/nd013/parts/fbf77062-5703-404e-b60c-95b78b2f3f9e/modules/6df7ae49-c61c-4bb2-a23e-6527e69209ec/lessons/601ae704-1035-4287-8b11-e2c2716217ad/concepts/d4aca031-508f-4e0b-b493-e7b706120f81) at the end of the CNN lesson is a solid starting point. You'll have to change the number of classes and possibly the preprocessing, but aside from that it's plug and play! \n",
    "\n",
    "With the LeNet-5 solution from the lecture, you should expect a validation set accuracy of about 0.89. To meet specifications, the validation set accuracy will need to be at least 0.93. It is possible to get an even higher accuracy, but 0.93 is the minimum for a successful project submission. \n",
    "\n",
    "There are various aspects to consider when thinking about this problem:\n",
    "\n",
    "- Neural network architecture (is the network over or underfitting?)\n",
    "- Play around preprocessing techniques (normalization, rgb to grayscale, etc)\n",
    "- Number of examples per label (some have more than others).\n",
    "- Generate fake data.\n",
    "\n",
    "Here is an example of a [published baseline model on this problem](http://yann.lecun.com/exdb/publis/pdf/sermanet-ijcnn-11.pdf). It's not required to be familiar with the approach used in the paper but, it's good practice to try to read papers like these."
   ]
  },
  {
   "cell_type": "markdown",
   "metadata": {},
   "source": [
    "### Pre-process the Data Set (normalization, grayscale, etc.)"
   ]
  },
  {
   "cell_type": "markdown",
   "metadata": {},
   "source": [
    "Minimally, the image data should be normalized so that the data has mean zero and equal variance. For image data, `(pixel - 128)/ 128` is a quick way to approximately normalize the data and can be used in this project. \n",
    "\n",
    "Other pre-processing steps are optional. You can try different techniques to see if it improves performance. \n",
    "\n",
    "Use the code cell (or multiple code cells, if necessary) to implement the first step of your project."
   ]
  },
  {
   "cell_type": "code",
   "execution_count": 7,
   "metadata": {},
   "outputs": [
    {
     "data": {
      "text/plain": [
       "(32, 32, 3)"
      ]
     },
     "execution_count": 7,
     "metadata": {},
     "output_type": "execute_result"
    }
   ],
   "source": [
    "X_train[0].shape"
   ]
  },
  {
   "cell_type": "code",
   "execution_count": 8,
   "metadata": {},
   "outputs": [],
   "source": [
    "### Preprocess the data here. It is required to normalize the data. Other preprocessing steps could include \n",
    "import cv2\n",
    "def convert_gray(x):\n",
    "    x_gray = cv2.cvtColor(x, cv2.COLOR_RGB2GRAY)\n",
    "    # x_gray = x[:,:,:,0] * 299/1000 + x[:,:,:,1] * 587/1000 + x[:,:,:,2] * 114/1000 \n",
    "    x_final = (x_gray/255.).astype(np.float32)\n",
    "    \n",
    "    return x_final.reshape(32,32,1)\n",
    "\n",
    "### converting to grayscale, etc.\n",
    "def to_array(x):\n",
    "    x_list = [convert_gray(y) for y in x]\n",
    "    x_array = np.array(x_list)\n",
    "    return x_array"
   ]
  },
  {
   "cell_type": "code",
   "execution_count": 9,
   "metadata": {},
   "outputs": [],
   "source": [
    "X_train = to_array(X_train)"
   ]
  },
  {
   "cell_type": "code",
   "execution_count": 10,
   "metadata": {},
   "outputs": [],
   "source": [
    "X_valid = to_array(X_valid)\n",
    "X_test = to_array(X_test)"
   ]
  },
  {
   "cell_type": "markdown",
   "metadata": {},
   "source": [
    "### Model Architecture"
   ]
  },
  {
   "cell_type": "code",
   "execution_count": 11,
   "metadata": {},
   "outputs": [],
   "source": [
    "################ Architecture: ###################################\n",
    "#  LeNet architecture: Two convolutional layers followed by one flatten layer and three\n",
    "#   fully connected linear layers.\n",
    "###\n",
    "#  convolution 1: 32x32x1  -> 28x28x12 -> relu -> 14x14x12 (pooling)\n",
    "#  convolution 2: 14x14x12 -> 10x10x25 -> relu -> 5x5x25   (pooling)\n",
    "#         flatten: 5x5x25   -> 625\n",
    "#        drop out: 625      -> 625\n",
    "#         linear: 625      -> 300\n",
    "#         linear: 300      -> 150\n",
    "#         linear: 150      -> 43\n"
   ]
  },
  {
   "cell_type": "code",
   "execution_count": 12,
   "metadata": {},
   "outputs": [],
   "source": [
    "### Define your architecture here.\n",
    "import tensorflow as tf\n",
    "mu = 0\n",
    "sigma = 0.1 # (as per course)\n",
    "def conv2d(input, in_len, in_depth, out_len, out_depth):\n",
    "    \"\"\"\n",
    "    Arguments:\n",
    "    input: input image\n",
    "    in_len = both height and wodth are same\n",
    "    in_depth = depth (in channels)\n",
    "    out_len = output dimension\n",
    "    out_depth = output no. of channels\n",
    "    \"\"\"\n",
    "    k_len = in_len - out_len + 1\n",
    "    conv_w = tf.Variable(tf.truncated_normal(shape=[k_len, k_len, in_depth, out_depth], mean = mu, stddev = sigma))\n",
    "    conv_b = tf.Variable(tf.zeros(out_depth))\n",
    "    \n",
    "    conv = tf.nn.conv2d(input, conv_w, strides = [1,1,1,1], padding =\"VALID\") + conv_b\n",
    "    return conv\n",
    "def activation(conv):\n",
    "    return tf.nn.relu(conv)\n",
    "\n",
    "def linear_layer(input, shape_in, shape_out):\n",
    "    w = tf.Variable(tf.truncated_normal(shape=[shape_in, shape_out], mean = mu, stddev = sigma))\n",
    "    b = tf.Variable(tf.zeros(shape_out)) \n",
    "    linear = tf.matmul(input, w) + b\n",
    "    return linear\n",
    "def classifier(input, keep_prob):\n",
    "    # layer 1 conv layer 32x32x1  -> 28x28x12 -> relu -> 14x14x12 (pooling)\n",
    "    conv2d_1 = conv2d(input,32, 1, 28, 12)\n",
    "    conv2d_1 = activation(conv2d_1)\n",
    "    conv2d_1 = tf.nn.max_pool(conv2d_1, ksize = [1,2,2,1], strides=[1,2,2,1], padding=\"VALID\")\n",
    "    \n",
    "    # layer 2 conv layer 14x14x12 -> 10x10x25 -> relu -> 5x5x25   (pooling)\n",
    "    conv2d_2 = conv2d(conv2d_1, 14, 12, 10, 25)\n",
    "    conv2d_2 = activation(conv2d_2)\n",
    "    conv2d_2 = tf.nn.max_pool(conv2d_2, ksize = [1,2,2,1], strides=[1,2,2,1], padding=\"VALID\")\n",
    "    \n",
    "    # flatten 5x5x25  -> 625\n",
    "    fc0 = tf.contrib.layers.flatten(conv2d_2)\n",
    "    \n",
    "    drop= tf.nn.dropout(fc0, keep_prob)\n",
    "    \n",
    "    # full connected layer\n",
    "    fc1 = linear_layer(drop, 625, 300)\n",
    "    fc1 = activation(fc1)\n",
    "    \n",
    "    fc2 = linear_layer(fc1, 300, 100)\n",
    "    fc2 = activation(fc2)\n",
    "    \n",
    "    fc3 = linear_layer(fc2, 100, n_classes)\n",
    "    return fc3"
   ]
  },
  {
   "cell_type": "code",
   "execution_count": 13,
   "metadata": {},
   "outputs": [],
   "source": [
    "# features and labels\n",
    "feature_shape = X_train.shape[1:]\n",
    "x = tf.placeholder(tf.float32,(None,)+feature_shape)\n",
    "y = tf.placeholder(tf.int32,(None))\n",
    "one_hot_y = tf.one_hot(y, n_classes)\n",
    "\n",
    "# droupout parameter\n",
    "keep_prob = tf.placeholder(tf.float32)"
   ]
  },
  {
   "cell_type": "code",
   "execution_count": 14,
   "metadata": {},
   "outputs": [],
   "source": [
    "logits = classifier(x, keep_prob)"
   ]
  },
  {
   "cell_type": "markdown",
   "metadata": {},
   "source": [
    "### Train, Validate and Test the Model"
   ]
  },
  {
   "cell_type": "markdown",
   "metadata": {},
   "source": [
    "A validation set can be used to assess how well the model is performing. A low accuracy on the training and validation\n",
    "sets imply underfitting. A high accuracy on the training set but low accuracy on the validation set implies overfitting."
   ]
  },
  {
   "cell_type": "code",
   "execution_count": 15,
   "metadata": {},
   "outputs": [],
   "source": [
    "## validate model\n",
    "\n",
    "correct_prediction = tf.equal(tf.argmax(logits, 1), tf.argmax(one_hot_y, 1))\n",
    "accuracy_prediction = tf.reduce_mean(tf.cast(correct_prediction, tf.float32))\n",
    "saver = tf.train.Saver()\n",
    "\n",
    "def evaluate(X_data, y_data):\n",
    "    num_examples = len(X_data)\n",
    "    acc = 0\n",
    "    sess  =tf.get_default_session()\n",
    "    for offset in range(0, num_examples, batch_size):\n",
    "        batch_x, batch_y = X_data[offset:offset+batch_size], y_data[offset:offset+batch_size]\n",
    "        accuracy = sess.run(accuracy_prediction, feed_dict={x:batch_x, y:batch_y, keep_prob: 1.0})\n",
    "        acc += (accuracy * len(batch_x))\n",
    "    return (acc/ num_examples)"
   ]
  },
  {
   "cell_type": "code",
   "execution_count": 16,
   "metadata": {},
   "outputs": [],
   "source": [
    "# parameters\n",
    "epochs = 50\n",
    "learning_rate = 0.001\n",
    "batch_size = 64"
   ]
  },
  {
   "cell_type": "code",
   "execution_count": 17,
   "metadata": {},
   "outputs": [],
   "source": [
    "### train\n",
    "from sklearn.utils import shuffle\n",
    "\n",
    "\n",
    "# train implementations\n",
    "cross_entropy = tf.nn.softmax_cross_entropy_with_logits(labels=one_hot_y, logits=logits)\n",
    "loss_operation = tf.reduce_mean(cross_entropy)\n",
    "optimizer = tf.train.AdamOptimizer(learning_rate = learning_rate)\n",
    "training_operation = optimizer.minimize(loss_operation)\n",
    "\n",
    "def train(X_train, y_train, X_valid, y_valid):\n",
    "\n",
    "    with tf.Session() as sess:\n",
    "        sess.run(tf.global_variables_initializer())\n",
    "        num_examples = len(X_train)\n",
    "        \n",
    "        print(\"Training.......\")\n",
    "        print()\n",
    "        for i in range(epochs):\n",
    "            X_train, y_train = shuffle(X_train, y_train)\n",
    "            for offset in range(0, len(X_train), batch_size):\n",
    "                end = offset + batch_size\n",
    "                batch_x, batch_y = X_train[offset:end], y_train[offset:end]\n",
    "                sess.run(training_operation, feed_dict={x: batch_x, y: batch_y, keep_prob : 0.8})\n",
    "\n",
    "            validation_accuracy = evaluate(X_valid, y_valid)\n",
    "            print(\"Epoch {0} / {1}...\".format(i+1, epochs))\n",
    "            print(\"Validation Accuracy = {:.3f}\".format(validation_accuracy))\n",
    "            print()\n",
    "        \n",
    "        saver.save(sess, './model')\n",
    "        print(\"Model saved\")"
   ]
  },
  {
   "cell_type": "code",
   "execution_count": 18,
   "metadata": {},
   "outputs": [
    {
     "name": "stdout",
     "output_type": "stream",
     "text": [
      "Training.......\n",
      "\n",
      "Epoch 1 / 50...\n",
      "Validation Accuracy = 0.840\n",
      "\n",
      "Epoch 2 / 50...\n",
      "Validation Accuracy = 0.906\n",
      "\n",
      "Epoch 3 / 50...\n",
      "Validation Accuracy = 0.926\n",
      "\n",
      "Epoch 4 / 50...\n",
      "Validation Accuracy = 0.915\n",
      "\n",
      "Epoch 5 / 50...\n",
      "Validation Accuracy = 0.930\n",
      "\n",
      "Epoch 6 / 50...\n",
      "Validation Accuracy = 0.931\n",
      "\n",
      "Epoch 7 / 50...\n",
      "Validation Accuracy = 0.943\n",
      "\n",
      "Epoch 8 / 50...\n",
      "Validation Accuracy = 0.926\n",
      "\n",
      "Epoch 9 / 50...\n",
      "Validation Accuracy = 0.932\n",
      "\n",
      "Epoch 10 / 50...\n",
      "Validation Accuracy = 0.943\n",
      "\n",
      "Epoch 11 / 50...\n",
      "Validation Accuracy = 0.949\n",
      "\n",
      "Epoch 12 / 50...\n",
      "Validation Accuracy = 0.955\n",
      "\n",
      "Epoch 13 / 50...\n",
      "Validation Accuracy = 0.946\n",
      "\n",
      "Epoch 14 / 50...\n",
      "Validation Accuracy = 0.956\n",
      "\n",
      "Epoch 15 / 50...\n",
      "Validation Accuracy = 0.942\n",
      "\n",
      "Epoch 16 / 50...\n",
      "Validation Accuracy = 0.956\n",
      "\n",
      "Epoch 17 / 50...\n",
      "Validation Accuracy = 0.947\n",
      "\n",
      "Epoch 18 / 50...\n",
      "Validation Accuracy = 0.946\n",
      "\n",
      "Epoch 19 / 50...\n",
      "Validation Accuracy = 0.951\n",
      "\n",
      "Epoch 20 / 50...\n",
      "Validation Accuracy = 0.946\n",
      "\n",
      "Epoch 21 / 50...\n",
      "Validation Accuracy = 0.951\n",
      "\n",
      "Epoch 22 / 50...\n",
      "Validation Accuracy = 0.956\n",
      "\n",
      "Epoch 23 / 50...\n",
      "Validation Accuracy = 0.945\n",
      "\n",
      "Epoch 24 / 50...\n",
      "Validation Accuracy = 0.954\n",
      "\n",
      "Epoch 25 / 50...\n",
      "Validation Accuracy = 0.950\n",
      "\n",
      "Epoch 26 / 50...\n",
      "Validation Accuracy = 0.949\n",
      "\n",
      "Epoch 27 / 50...\n",
      "Validation Accuracy = 0.957\n",
      "\n",
      "Epoch 28 / 50...\n",
      "Validation Accuracy = 0.945\n",
      "\n",
      "Epoch 29 / 50...\n",
      "Validation Accuracy = 0.949\n",
      "\n",
      "Epoch 30 / 50...\n",
      "Validation Accuracy = 0.931\n",
      "\n",
      "Epoch 31 / 50...\n",
      "Validation Accuracy = 0.948\n",
      "\n",
      "Epoch 32 / 50...\n",
      "Validation Accuracy = 0.949\n",
      "\n",
      "Epoch 33 / 50...\n",
      "Validation Accuracy = 0.948\n",
      "\n",
      "Epoch 34 / 50...\n",
      "Validation Accuracy = 0.951\n",
      "\n",
      "Epoch 35 / 50...\n",
      "Validation Accuracy = 0.946\n",
      "\n",
      "Epoch 36 / 50...\n",
      "Validation Accuracy = 0.945\n",
      "\n",
      "Epoch 37 / 50...\n",
      "Validation Accuracy = 0.941\n",
      "\n",
      "Epoch 38 / 50...\n",
      "Validation Accuracy = 0.947\n",
      "\n",
      "Epoch 39 / 50...\n",
      "Validation Accuracy = 0.950\n",
      "\n",
      "Epoch 40 / 50...\n",
      "Validation Accuracy = 0.941\n",
      "\n",
      "Epoch 41 / 50...\n",
      "Validation Accuracy = 0.948\n",
      "\n",
      "Epoch 42 / 50...\n",
      "Validation Accuracy = 0.951\n",
      "\n",
      "Epoch 43 / 50...\n",
      "Validation Accuracy = 0.947\n",
      "\n",
      "Epoch 44 / 50...\n",
      "Validation Accuracy = 0.953\n",
      "\n",
      "Epoch 45 / 50...\n",
      "Validation Accuracy = 0.951\n",
      "\n",
      "Epoch 46 / 50...\n",
      "Validation Accuracy = 0.951\n",
      "\n",
      "Epoch 47 / 50...\n",
      "Validation Accuracy = 0.934\n",
      "\n",
      "Epoch 48 / 50...\n",
      "Validation Accuracy = 0.950\n",
      "\n",
      "Epoch 49 / 50...\n",
      "Validation Accuracy = 0.944\n",
      "\n",
      "Epoch 50 / 50...\n",
      "Validation Accuracy = 0.952\n",
      "\n",
      "Model saved\n"
     ]
    }
   ],
   "source": [
    "# train\n",
    "\n",
    "train(X_train, y_train, X_valid, y_valid)"
   ]
  },
  {
   "cell_type": "code",
   "execution_count": 19,
   "metadata": {},
   "outputs": [
    {
     "name": "stdout",
     "output_type": "stream",
     "text": [
      "INFO:tensorflow:Restoring parameters from ./model\n",
      "accracy: 0.944101346077\n"
     ]
    }
   ],
   "source": [
    "# test\n",
    "with tf.Session() as sess:\n",
    "    saver.restore(sess, './model')\n",
    "    acc=evaluate(X_test, y_test)\n",
    "    print(\"accracy:\", acc)"
   ]
  },
  {
   "cell_type": "markdown",
   "metadata": {},
   "source": [
    "---\n",
    "\n",
    "## Step 3: Test a Model on New Images\n",
    "\n"
   ]
  },
  {
   "cell_type": "markdown",
   "metadata": {},
   "source": [
    "### Load and Output the Images"
   ]
  },
  {
   "cell_type": "code",
   "execution_count": 20,
   "metadata": {},
   "outputs": [],
   "source": [
    "### Load the images and plot them here.\n",
    "from PIL import Image\n",
    "import os\n",
    "folder = 'folder_images'\n",
    "\n",
    "img_list = [ i for i in os.listdir(folder)]\n",
    "paths = [os.path.join(folder, f) for f in img_list]\n",
    "labels = [f.split('.')[0] for f in img_list]"
   ]
  },
  {
   "cell_type": "code",
   "execution_count": 21,
   "metadata": {},
   "outputs": [],
   "source": [
    "def resize_images(image):\n",
    "    x = Image.open(image).convert('RGB')\n",
    "    x = x.resize((32,32))\n",
    "    return np.array(x)"
   ]
  },
  {
   "cell_type": "code",
   "execution_count": 22,
   "metadata": {},
   "outputs": [],
   "source": [
    "images_array = [resize_images(i) for i in paths]\n",
    "\n",
    "# convert to grayscale\n",
    "input_images = to_array(images_array)"
   ]
  },
  {
   "cell_type": "markdown",
   "metadata": {},
   "source": [
    "### Analyze Performance\n",
    "##### Predict the Sign Type for Each Image"
   ]
  },
  {
   "cell_type": "code",
   "execution_count": 23,
   "metadata": {},
   "outputs": [],
   "source": [
    "### Run the predictions here and use the model to output the prediction for each image.\n",
    "def predict(features, human_readable=False):\n",
    "    with tf.Session() as sess:\n",
    "        saver.restore(sess, './model')\n",
    "        results = sess.run(tf.argmax(logits, 1), {x : features, keep_prob:1.0})\n",
    "        if human_readable:\n",
    "            results = [signnames[n] for n in results]\n",
    "        return results"
   ]
  },
  {
   "cell_type": "code",
   "execution_count": 24,
   "metadata": {},
   "outputs": [
    {
     "name": "stdout",
     "output_type": "stream",
     "text": [
      "INFO:tensorflow:Restoring parameters from ./model\n"
     ]
    },
    {
     "data": {
      "text/plain": [
       "['Speed limit (20km/h)',\n",
       " 'Speed limit (30km/h)',\n",
       " 'Right-of-way at the next intersection']"
      ]
     },
     "execution_count": 24,
     "metadata": {},
     "output_type": "execute_result"
    }
   ],
   "source": [
    "predict(input_images, True)"
   ]
  },
  {
   "cell_type": "code",
   "execution_count": 25,
   "metadata": {},
   "outputs": [
    {
     "data": {
      "text/plain": [
       "['Speed limit (20kmh)',\n",
       " 'Speed limit (30kmh)',\n",
       " 'Right-of-way at the next intersection']"
      ]
     },
     "execution_count": 25,
     "metadata": {},
     "output_type": "execute_result"
    }
   ],
   "source": [
    "labels"
   ]
  },
  {
   "cell_type": "code",
   "execution_count": null,
   "metadata": {},
   "outputs": [],
   "source": []
  }
 ],
 "metadata": {
  "anaconda-cloud": {},
  "kernelspec": {
   "display_name": "Python 3",
   "language": "python",
   "name": "python3"
  },
  "language_info": {
   "codemirror_mode": {
    "name": "ipython",
    "version": 3
   },
   "file_extension": ".py",
   "mimetype": "text/x-python",
   "name": "python",
   "nbconvert_exporter": "python",
   "pygments_lexer": "ipython3",
   "version": "3.6.3"
  }
 },
 "nbformat": 4,
 "nbformat_minor": 1
}
